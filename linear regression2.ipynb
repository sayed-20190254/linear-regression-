{
 "cells": [
  {
   "cell_type": "code",
   "execution_count": 1,
   "id": "1f1a96c5",
   "metadata": {},
   "outputs": [
    {
     "name": "stdout",
     "output_type": "stream",
     "text": [
      "2.456022866676444\n",
      "[[4.86194429]\n",
      " [2.96993707]\n",
      " [1.04287944]] 1.0042879437655017\n"
     ]
    }
   ],
   "source": [
    "import numpy as np\n",
    "import pandas as pd \n",
    "import matplotlib.pyplot as plt \n",
    "from sklearn.datasets import make_blobs,make_classification \n",
    "from sklearn.linear_model import LinearRegression \n",
    "from sklearn.naive_bayes import GaussianNB \n",
    "from sklearn.metrics import accuracy_score \n",
    "from sklearn.model_selection import train_test_split as split_\n",
    "\n",
    "#generate dataset\n",
    "X, y = make_blobs(n_samples=1000, centers=2, n_features=3, random_state=1, cluster_std=3)\n",
    "#X = np.random.rand(1000,3)\n",
    "\n",
    "y_ac=[]\n",
    "x_pred=[]\n",
    "y_hate=[] \n",
    "epochs = 1000 # The number of iterations to perform gradient descent \n",
    "n = float(len(X)) # Number of elements in X\n",
    "\n",
    "#Performing Gradient Descent\n",
    "for i in range(epochs):\n",
    "    x=5*X[i][0] + 3*X[i][1] + 1.5*X[i][2] + 6 \n",
    "    y_ac.append(x) \n",
    "    \n",
    "\n",
    "x_train, x_test,y_train, y_test = split_(X,y_ac, test_size=0.4)\n",
    "\n",
    "bize=1\n",
    "w=np.ones((len(X[0]),1))\n",
    "\n",
    "def Loss(x_train,y_train,w,bize):\n",
    "    y_hate= np.dot(x_train,w)+bize\n",
    "    errors1=[]\n",
    "    for z in range(len(y_train)):\n",
    "        errors=y_hate[z][0]-y_train[z]\n",
    "        errors1.append(errors**2)\n",
    "        x=np.sum(errors1)\n",
    "    L=(x/(len(x_train)))\n",
    "    return L\n",
    "\n",
    "\n",
    "def gd(x_train,y_train,w,bize):   \n",
    "    for i in range(10000):\n",
    "        errors1=[]\n",
    "        y_hate= np.dot(x_train,w)+bize\n",
    "        for z in range(len(y_train)):\n",
    "                errors=y_hate[z][0]-y_train[z]\n",
    "                errors1.append(errors)\n",
    "                \n",
    "        g=np.dot(np.transpose(x_train),errors1)/len(x_train)\n",
    "        for i in range(3):\n",
    "            w[i]=w[i]-1e-2*g[i]\n",
    "        bize-=1e-3*g[i]\n",
    "       \n",
    "    return w,bize\n",
    "\n",
    "w,bize=gd(x_train,y_train,w,bize)\n",
    "\n",
    "l=Loss(x_test,y_test,w,bize)\n",
    "print(l)\n",
    "print(w,bize)"
   ]
  },
  {
   "cell_type": "code",
   "execution_count": 6,
   "id": "7befd3cf",
   "metadata": {},
   "outputs": [],
   "source": [
    "\n"
   ]
  },
  {
   "cell_type": "code",
   "execution_count": 7,
   "id": "8a00e870",
   "metadata": {},
   "outputs": [],
   "source": []
  },
  {
   "cell_type": "code",
   "execution_count": 8,
   "id": "757c340e",
   "metadata": {},
   "outputs": [],
   "source": []
  },
  {
   "cell_type": "code",
   "execution_count": 9,
   "id": "87df594f",
   "metadata": {},
   "outputs": [
    {
     "name": "stdout",
     "output_type": "stream",
     "text": [
      "5\n"
     ]
    }
   ],
   "source": []
  },
  {
   "cell_type": "code",
   "execution_count": null,
   "id": "eaed1454",
   "metadata": {},
   "outputs": [],
   "source": []
  },
  {
   "cell_type": "code",
   "execution_count": null,
   "id": "80c53ee1",
   "metadata": {},
   "outputs": [],
   "source": []
  }
 ],
 "metadata": {
  "kernelspec": {
   "display_name": "Python 3",
   "language": "python",
   "name": "python3"
  },
  "language_info": {
   "codemirror_mode": {
    "name": "ipython",
    "version": 3
   },
   "file_extension": ".py",
   "mimetype": "text/x-python",
   "name": "python",
   "nbconvert_exporter": "python",
   "pygments_lexer": "ipython3",
   "version": "3.8.8"
  }
 },
 "nbformat": 4,
 "nbformat_minor": 5
}
