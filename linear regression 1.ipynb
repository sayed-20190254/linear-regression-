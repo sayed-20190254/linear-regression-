{
 "cells": [
  {
   "cell_type": "code",
   "execution_count": 30,
   "id": "0e749f84",
   "metadata": {},
   "outputs": [
    {
     "name": "stdout",
     "output_type": "stream",
     "text": [
      "7.53164949259761e-30\n"
     ]
    },
    {
     "data": {
      "text/plain": [
       "array([[5. ],\n",
       "       [3. ],\n",
       "       [1.5],\n",
       "       [6. ]])"
      ]
     },
     "execution_count": 30,
     "metadata": {},
     "output_type": "execute_result"
    }
   ],
   "source": [
    "import numpy as np\n",
    "from sklearn.model_selection import train_test_split as split_\n",
    "\n",
    "#generate dataset\n",
    "#X, y = make_blobs(n_samples=1000, centers=2, n_features=3, random_state=1, cluster_std=3)\n",
    "X = np.random.rand(1000,3)\n",
    "\n",
    "y_ac=[]\n",
    "x_pred=[]\n",
    "y_hate=[] \n",
    "epochs = 1000 # The number of iterations to perform gradient descent \n",
    "n = float(len(X)) # Number of elements in X\n",
    "\n",
    "#Performing Gradient Descent\n",
    "for i in range(epochs):\n",
    "    x=5*X[i][0] + 3*X[i][1] + 1.5*X[i][2] + 6 \n",
    "    y_ac.append(x) \n",
    "    x_pred.append(np.append(X[i],[[1]]))\n",
    "\n",
    "x_train, x_test,y_train, y_test = split_(x_pred,y_ac, test_size=0.4)\n",
    "\n",
    "\n",
    "\n",
    "\n",
    "def Loss(x_train,y_train,w):\n",
    "    y_hate= np.dot(x_train,w)\n",
    "    errors1=[]\n",
    "    for z in range(len(y_train)):\n",
    "        errors=y_hate[z][0]-y_train[z]\n",
    "        errors1.append(errors**2)\n",
    "        x=np.sum(errors1)\n",
    "    L=(x/(len(x_train)))\n",
    "    return L\n",
    "\n",
    "\n",
    "def gd(x_train,y_train):  \n",
    "    w=np.random.rand(len(x_train[0]),1)\n",
    "    for i in range(7000):\n",
    "        errors1=[]\n",
    "        y_hate= np.dot(x_train,w)\n",
    "        for z in range(len(y_train)):\n",
    "                errors=y_hate[z][0]-y_train[z]\n",
    "                errors1.append(errors)\n",
    "                \n",
    "        g=np.dot(np.transpose(x_train),errors1)/len(x_train)\n",
    "        for i in range(len(w)):\n",
    "            w[i]=w[i]-0.75*g[i]\n",
    "       \n",
    "    return w\n",
    "\n",
    "w=gd(x_train,y_train)\n",
    "\n",
    "l=Loss(x_test,y_test,w)\n",
    "print(l)\n",
    "print(w)"
   ]
  },
  {
   "cell_type": "code",
   "execution_count": 31,
   "id": "3326e208",
   "metadata": {},
   "outputs": [],
   "source": [
    "xx=np.dot(np.transpose(x_train),x_train)\n",
    "xy=np.dot(np.transpose(x_train),y_train)"
   ]
  },
  {
   "cell_type": "code",
   "execution_count": 40,
   "id": "623fe791",
   "metadata": {},
   "outputs": [],
   "source": [
    "w=np.dot(np.linalg.inv(xx),xy)"
   ]
  },
  {
   "cell_type": "code",
   "execution_count": 43,
   "id": "4e7a8899",
   "metadata": {},
   "outputs": [
    {
     "data": {
      "text/plain": [
       "array([[5. ],\n",
       "       [3. ],\n",
       "       [1.5],\n",
       "       [6. ]])"
      ]
     },
     "execution_count": 43,
     "metadata": {},
     "output_type": "execute_result"
    }
   ],
   "source": [
    "print(w.reshape(4,1))"
   ]
  },
  {
   "cell_type": "code",
   "execution_count": null,
   "id": "13e2fb54",
   "metadata": {},
   "outputs": [],
   "source": []
  }
 ],
 "metadata": {
  "kernelspec": {
   "display_name": "Python 3",
   "language": "python",
   "name": "python3"
  },
  "language_info": {
   "codemirror_mode": {
    "name": "ipython",
    "version": 3
   },
   "file_extension": ".py",
   "mimetype": "text/x-python",
   "name": "python",
   "nbconvert_exporter": "python",
   "pygments_lexer": "ipython3",
   "version": "3.8.8"
  }
 },
 "nbformat": 4,
 "nbformat_minor": 5
}
